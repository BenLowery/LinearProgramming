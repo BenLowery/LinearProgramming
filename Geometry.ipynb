{
 "cells": [
  {
   "cell_type": "markdown",
   "metadata": {},
   "source": [
    "# Graphical representation of different Linear programming Scenarios\n",
    "Below is the code for creating a graphical representation of 3 Linear program problems revolving around Maximization and Minimization of an objective function with given contraints. The graphs concern the ideas of a feasible/infeasible and bounded/unbounded problem. These are graphed with some basic information about the graphs, the Pdf file gives more information on what is going on with each respective graph.\n",
    "\n",
    "To run the code go to each box in order and click run (or Shift+Enter) Then below each respective code block, a graph will be created with a slider to move the objective function"
   ]
  },
  {
   "cell_type": "code",
   "execution_count": 5,
   "metadata": {},
   "outputs": [],
   "source": [
    "#  Call all the libraries we need\n",
    "from ipywidgets import interact, interactive, fixed, interact_manual\n",
    "import ipywidgets as widgets\n",
    "\n",
    "# Matlab like plotting library\n",
    "import matplotlib.pyplot as plt\n",
    "%matplotlib inline\n",
    "\n",
    "import numpy as np"
   ]
  },
  {
   "cell_type": "code",
   "execution_count": 16,
   "metadata": {
    "scrolled": false
   },
   "outputs": [
    {
     "data": {
      "application/vnd.jupyter.widget-view+json": {
       "model_id": "0c21201b82de471492ce03a48b7d2c51",
       "version_major": 2,
       "version_minor": 0
      },
      "text/plain": [
       "interactive(children=(FloatSlider(value=15.5, description='ζ', max=20.0, min=1.0, step=0.5), Output()), _dom_c…"
      ]
     },
     "metadata": {},
     "output_type": "display_data"
    },
    {
     "data": {
      "text/plain": [
       "<function __main__.plot_func(ζ)>"
      ]
     },
     "execution_count": 16,
     "metadata": {},
     "output_type": "execute_result"
    }
   ],
   "source": [
    "# Plot for bounded and feasible region example\n",
    "\n",
    "def plot_func(ζ):\n",
    "    # create evenly spaced x variable \n",
    "    x = np.linspace(0, 10)\n",
    "    # Assign the y functions which rearranged for y to be the subject (2x_1+6x_2=15, -x_1+x_2=7, x_1+4x_2=4, 3x_1+5x_2=c1)\n",
    "    y=[15/6-(2/6)*x, 7/4+(1/4)*x, 4-x, ζ/5-(3/5)*x]\n",
    "    \n",
    "    # Plot the equations\n",
    "    plt.plot(x, y[0], color=\"blue\")\n",
    "    plt.plot(x, y[1], color=\"green\")\n",
    "    plt.plot(x, y[2], color=\"red\")\n",
    "    plt.plot(x, y[3], '--', color=\"purple\")\n",
    "    \n",
    "    # make it look pretty\n",
    "    axes = plt.gca()\n",
    "    axes.set_xlim([0,4])\n",
    "    axes.set_ylim([0,4])\n",
    "    plt.title('Linear Program with feasible solution')\n",
    "    plt.xlabel(\"$x_1$\")\n",
    "    plt.ylabel(\"$x_2$\")\n",
    "    plt.legend(['$2x_1+6x_2\\leq 15$', '$-x_1+4x_2\\leq 7$', '$x_1+x_2\\leq 4$', 'Objective function'], loc='upper right')\n",
    "    \n",
    "    #Shading the feasible region\n",
    "    #-----\n",
    "    # Find set of minimum points between first two lines\n",
    "    y_min=np.minimum(y[0],y[1])\n",
    "    # Fill between the origin and the minimum set in prev. line\n",
    "    plt.fill_between(x, 0, y_min, where=y_min>0, color='grey', alpha=0.4)\n",
    "    # Remove the extra bit it fills in\n",
    "    plt.fill_between(x, y[2], y[0], color='white')\n",
    "    # Voila the feasible region shaded in \n",
    "    plt.text(1, 1, \"Feasible region\", ha='left', wrap=True)\n",
    "    \n",
    "    \n",
    "# Add slider widget and set boundaries\n",
    "interact(plot_func, ζ = widgets.FloatSlider(value=15.5,\n",
    "                                               min=1,\n",
    "                                               max=20,\n",
    "                                               step=0.5))"
   ]
  },
  {
   "cell_type": "code",
   "execution_count": 3,
   "metadata": {},
   "outputs": [
    {
     "data": {
      "application/vnd.jupyter.widget-view+json": {
       "model_id": "d53d20f7ab73489da197982e669b53d7",
       "version_major": 2,
       "version_minor": 0
      },
      "text/plain": [
       "interactive(children=(FloatSlider(value=1.0, description='ζ', max=11.0, min=1.0, step=0.5), Output()), _dom_cl…"
      ]
     },
     "metadata": {},
     "output_type": "display_data"
    },
    {
     "data": {
      "text/plain": [
       "<function __main__.plot_func(ζ)>"
      ]
     },
     "execution_count": 3,
     "metadata": {},
     "output_type": "execute_result"
    }
   ],
   "source": [
    "# Plot for infeasible region example\n",
    "\n",
    "# max x+y\n",
    "# x1 + 2x2 ≤  8        \n",
    "# 3x1 + 2x2 ≤ 12\n",
    "# x1 + 3x2 ≥ 13\n",
    "\n",
    "def plot_func(ζ):\n",
    "    # create evenly spaced x variable \n",
    "    x = np.linspace(0, 10)\n",
    "    # Assign the y functions which rearranged for y to be the subject (x_1+2x_2<=8, 3x_1+2x_2<=12, x_1+3x_2>=13, x_1+x_2=ζ)\n",
    "    y=[4-(1/2)*x, 6-(3/2)*x, 13/3-(1/3)*x, ζ-x]\n",
    "    \n",
    "    # Plot the equations\n",
    "    plt.plot(x, y[0], color=\"blue\")\n",
    "    plt.plot(x, y[1], color=\"green\")\n",
    "    plt.plot(x, y[2], color=\"red\")\n",
    "    plt.plot(x, y[3], '--', color=\"purple\")\n",
    "    \n",
    "    # make it look pretty\n",
    "    axes = plt.gca()\n",
    "    axes.set_xlim([0,8])\n",
    "    axes.set_ylim([0,8])\n",
    "    plt.title('Linear Program with infeasible constraints')\n",
    "    plt.xlabel(\"$x_1$\")\n",
    "    plt.ylabel(\"$x_2$\")\n",
    "    plt.legend(['$x_1+2x_2\\leq 8$', '$3x_1+2x_2\\leq 12$', '$x_1+3x_2 \\geq 13$', 'Objective function'], loc='upper right')\n",
    "    \n",
    "    # Fill contraint areas to make it easier to see whats going on\n",
    "    plt.fill_between(x, 0, y[0], color='blue', alpha=0.5)\n",
    "    plt.fill_between(x, 0, y[1], color='green', alpha=0.5)\n",
    "    plt.fill_between(x, y[2], 8, color='red', alpha=0.5)\n",
    "    \n",
    "    \n",
    "# Add slider widget and set boundaries\n",
    "interact(plot_func, ζ = widgets.FloatSlider(value=1,\n",
    "                                               min=1,\n",
    "                                               max=11,\n",
    "                                               step=0.5))"
   ]
  },
  {
   "cell_type": "code",
   "execution_count": 28,
   "metadata": {},
   "outputs": [
    {
     "data": {
      "application/vnd.jupyter.widget-view+json": {
       "model_id": "57021efeec6d4e008318a17e8e0a8851",
       "version_major": 2,
       "version_minor": 0
      },
      "text/plain": [
       "interactive(children=(FloatSlider(value=5.0, description='ζ', max=20.0, min=1.0, step=0.5), Output()), _dom_cl…"
      ]
     },
     "metadata": {},
     "output_type": "display_data"
    },
    {
     "data": {
      "text/plain": [
       "<function __main__.plot_func(ζ)>"
      ]
     },
     "execution_count": 28,
     "metadata": {},
     "output_type": "execute_result"
    }
   ],
   "source": [
    "# Plot for unbounded example\n",
    "\n",
    "# max 10x+y\n",
    "# -2x1 + 5x2 ≤ 5       \n",
    "# 4x1 + 6x2 ≥ 8\n",
    "# x+y ≥ 1/2 \n",
    "\n",
    "def plot_func(ζ):\n",
    "    # create evenly spaced x variable \n",
    "    x = np.linspace(0, 10)\n",
    "    # Assign the y functions which rearranged for y to be the subject (-2x1 + 5x2 ≤ 5, 4x1 + 6x2 ≥ 8, x+y ≥ 1/2, 10x1+x2=ζ)\n",
    "    y=[(2/5)*x+1, (8/6)-(4/6)*x, 1-x, ζ-10*x]\n",
    "    \n",
    "    # Plot the equations\n",
    "    plt.plot(x, y[0], color=\"blue\")\n",
    "    plt.plot(x, y[1], color=\"green\")\n",
    "    plt.plot(x, y[2], color=\"red\")\n",
    "    plt.plot(x, y[3], '--', color=\"purple\")\n",
    "    \n",
    "    # make it look pretty\n",
    "    axes = plt.gca()\n",
    "    axes.set_xlim([0,3])\n",
    "    axes.set_ylim([0,3])\n",
    "    plt.title('Unbounded Linear Program')\n",
    "    plt.xlabel(\"$x_1$\")\n",
    "    plt.ylabel(\"$x_2$\")\n",
    "    plt.legend(['$-2x_1+5x_2\\leq 5$', '$4x_1+6x_2\\geq 8$', '$x_1+x_2 \\geq 0.5$', 'Objective function: $10x_1+x_2$'], loc='upper left')\n",
    "    \n",
    "    \n",
    "    #Shading the feasible region\n",
    "    #-----\n",
    "    # Fill under y0\n",
    "    plt.fill_between(x, 0, y[0], color='grey', alpha=0.4)\n",
    "    # Fill as white and remove bits that shouldn't be in the feasible region\n",
    "    plt.fill_between(x, 0, y[1], color='white')\n",
    "    \n",
    "    # Voila the feasible region shaded in \n",
    "    plt.text(1.5, 1, \"Feasible region\", ha='left', wrap=True)\n",
    "    \n",
    "    \n",
    "# Add slider widget and set boundaries\n",
    "interact(plot_func, ζ = widgets.FloatSlider(value=5,\n",
    "                                               min=1,\n",
    "                                               max=20,\n",
    "                                               step=0.5))"
   ]
  },
  {
   "cell_type": "code",
   "execution_count": null,
   "metadata": {},
   "outputs": [],
   "source": []
  }
 ],
 "metadata": {
  "kernelspec": {
   "display_name": "Python 3",
   "language": "python",
   "name": "python3"
  },
  "language_info": {
   "codemirror_mode": {
    "name": "ipython",
    "version": 3
   },
   "file_extension": ".py",
   "mimetype": "text/x-python",
   "name": "python",
   "nbconvert_exporter": "python",
   "pygments_lexer": "ipython3",
   "version": "3.6.8"
  }
 },
 "nbformat": 4,
 "nbformat_minor": 2
}
